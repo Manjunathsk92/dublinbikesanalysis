{
 "cells": [
  {
   "cell_type": "markdown",
   "metadata": {},
   "source": [
    "investigating terrible predictions"
   ]
  },
  {
   "cell_type": "code",
   "execution_count": 5,
   "metadata": {},
   "outputs": [],
   "source": [
    "import pickle\n",
    "with open('/home/student/db/resources/new_stops_dict.bin','rb') as handle:\n",
    "    stops = pickle.load(handle)\n",
    "import json\n",
    "routes = json.loads(open('/home/student/db/resources/trimmed_routes.json','r').read())"
   ]
  },
  {
   "cell_type": "code",
   "execution_count": 3,
   "metadata": {},
   "outputs": [
    {
     "data": {
      "text/plain": [
       "{'stop_name': 'Wadelai, Glasnevin Drive',\n",
       " 'lat': 53.3887179243058,\n",
       " 'lon': -6.27177114122451,\n",
       " 'serves': {'11': [2]}}"
      ]
     },
     "execution_count": 3,
     "metadata": {},
     "output_type": "execute_result"
    }
   ],
   "source": [
    "stops['33']"
   ]
  },
  {
   "cell_type": "code",
   "execution_count": 4,
   "metadata": {},
   "outputs": [
    {
     "data": {
      "text/plain": [
       "{'stop_name': 'County Wicklow, Valleymount Road',\n",
       " 'lat': 53.1071879095781,\n",
       " 'lon': -6.49187452362224,\n",
       " 'serves': {'11': [2], '65': [1, 4]}}"
      ]
     },
     "execution_count": 4,
     "metadata": {},
     "output_type": "execute_result"
    }
   ],
   "source": [
    "stops['7270']"
   ]
  },
  {
   "cell_type": "code",
   "execution_count": null,
   "metadata": {},
   "outputs": [],
   "source": [
    "Ok so 33 - 7270 is a valid prediction kind of"
   ]
  },
  {
   "cell_type": "code",
   "execution_count": 6,
   "metadata": {},
   "outputs": [
    {
     "data": {
      "text/plain": [
       "[\" St Pappin's Rd\",\n",
       " 449,\n",
       " 450,\n",
       " 3181,\n",
       " 451,\n",
       " 447,\n",
       " 5045,\n",
       " 4460,\n",
       " 453,\n",
       " 454,\n",
       " 4475,\n",
       " 3023,\n",
       " 3024,\n",
       " 3025,\n",
       " 3026,\n",
       " 3027,\n",
       " 3028,\n",
       " 3029,\n",
       " 3030,\n",
       " 3031,\n",
       " 875,\n",
       " 876,\n",
       " 878,\n",
       " 879,\n",
       " 880,\n",
       " 881,\n",
       " 882,\n",
       " 883,\n",
       " 884,\n",
       " 885,\n",
       " 886,\n",
       " 887,\n",
       " 903,\n",
       " 904,\n",
       " 906,\n",
       " 907,\n",
       " 908,\n",
       " 909,\n",
       " 786,\n",
       " 793,\n",
       " 320,\n",
       " 278,\n",
       " 10,\n",
       " 12,\n",
       " 14,\n",
       " 15,\n",
       " 17,\n",
       " 18,\n",
       " 19,\n",
       " 21,\n",
       " 7602,\n",
       " 22,\n",
       " 23,\n",
       " 24,\n",
       " 25,\n",
       " 27,\n",
       " 28,\n",
       " 29,\n",
       " 4680,\n",
       " 31,\n",
       " 32,\n",
       " 33,\n",
       " 7270,\n",
       " 6122]"
      ]
     },
     "execution_count": 6,
     "metadata": {},
     "output_type": "execute_result"
    }
   ],
   "source": [
    "routes['11'][2]"
   ]
  },
  {
   "cell_type": "code",
   "execution_count": null,
   "metadata": {},
   "outputs": [],
   "source": [
    "# So ... in the data at least, a bius really does go from glasnevin to wicklow. this is... valid"
   ]
  },
  {
   "cell_type": "code",
   "execution_count": 7,
   "metadata": {},
   "outputs": [
    {
     "data": {
      "text/plain": [
       "{'stop_name': \"Wadelai, Saint Pappin's Road\",\n",
       " 'lat': 53.38637270596929,\n",
       " 'lon': -6.274301663697621,\n",
       " 'serves': {'11': [0, 1, 2]}}"
      ]
     },
     "execution_count": 7,
     "metadata": {},
     "output_type": "execute_result"
    }
   ],
   "source": [
    "stops['6122']"
   ]
  },
  {
   "cell_type": "code",
   "execution_count": 10,
   "metadata": {},
   "outputs": [],
   "source": [
    "# So as per gtfs data, this bus goes from glasnevin to wicklow and back again. brilliant"
   ]
  },
  {
   "cell_type": "code",
   "execution_count": 8,
   "metadata": {},
   "outputs": [],
   "source": [
    "import pandas as pd\n",
    "d = pd.read_csv('/data/gtfs/stops.txt')"
   ]
  },
  {
   "cell_type": "code",
   "execution_count": 11,
   "metadata": {},
   "outputs": [
    {
     "data": {
      "text/plain": [
       "{'stop_name': 'Carrickmines, Druid Valley',\n",
       " 'lat': 53.24529518298329,\n",
       " 'lon': -6.14046198071769,\n",
       " 'serves': {'111': [1], '7': [2, 3], '84': [0, 1], '84A': [0, 1]}}"
      ]
     },
     "execution_count": 11,
     "metadata": {},
     "output_type": "execute_result"
    }
   ],
   "source": [
    "stops['5046']"
   ]
  },
  {
   "cell_type": "code",
   "execution_count": 13,
   "metadata": {},
   "outputs": [
    {
     "data": {
      "text/plain": [
       "{'stop_name': \"Rathmichael, Bride's Glen Bus Stop\",\n",
       " 'lat': 53.2415351003022,\n",
       " 'lon': -6.142003505180269,\n",
       " 'serves': {'111': [0, 1], '7': [0, 1, 2, 3], '84': [0, 1], '84A': [0, 1]}}"
      ]
     },
     "execution_count": 13,
     "metadata": {},
     "output_type": "execute_result"
    }
   ],
   "source": [
    "stops['7639']"
   ]
  },
  {
   "cell_type": "code",
   "execution_count": null,
   "metadata": {},
   "outputs": [],
   "source": [
    "# This one is plausible"
   ]
  },
  {
   "cell_type": "code",
   "execution_count": 14,
   "metadata": {},
   "outputs": [
    {
     "data": {
      "text/plain": [
       "{'stop_name': 'Nangor, Business Park Nangor Entrance',\n",
       " 'lat': 53.3250293591821,\n",
       " 'lon': -6.43940651070571,\n",
       " 'serves': {'13': [8, 9, 10, 11, 12, 17], '151': [1, 2, 3]}}"
      ]
     },
     "execution_count": 14,
     "metadata": {},
     "output_type": "execute_result"
    }
   ],
   "source": [
    "stops['4555']\n"
   ]
  },
  {
   "cell_type": "code",
   "execution_count": 15,
   "metadata": {},
   "outputs": [
    {
     "data": {
      "text/plain": [
       "{'stop_name': 'Nangor, Business Park',\n",
       " 'lat': 53.319362965100005,\n",
       " 'lon': -6.43429969561641,\n",
       " 'serves': {'13': [8, 9, 10, 11, 12], '151': [1]}}"
      ]
     },
     "execution_count": 15,
     "metadata": {},
     "output_type": "execute_result"
    }
   ],
   "source": [
    "stops['4576']"
   ]
  },
  {
   "cell_type": "code",
   "execution_count": 16,
   "metadata": {},
   "outputs": [
    {
     "data": {
      "text/plain": [
       "{'stop_name': 'Nangor, Castlegrange Green',\n",
       " 'lat': 53.320033211323995,\n",
       " 'lon': -6.427175252482519,\n",
       " 'serves': {'13': [8, 9, 10, 11, 12, 13, 14, 15, 17],\n",
       "  '151': [1, 2, 3],\n",
       "  '68': [0]}}"
      ]
     },
     "execution_count": 16,
     "metadata": {},
     "output_type": "execute_result"
    }
   ],
   "source": [
    "stops['3418']"
   ]
  },
  {
   "cell_type": "code",
   "execution_count": null,
   "metadata": {},
   "outputs": [],
   "source": [
    "# It is plausible how these could be negative, especially if there is too little data\n",
    "# Impute 0, in the case that mean travel time is negative"
   ]
  },
  {
   "cell_type": "code",
   "execution_count": null,
   "metadata": {},
   "outputs": [],
   "source": [
    "#too high"
   ]
  },
  {
   "cell_type": "code",
   "execution_count": null,
   "metadata": {},
   "outputs": [],
   "source": []
  },
  {
   "cell_type": "code",
   "execution_count": 17,
   "metadata": {},
   "outputs": [
    {
     "data": {
      "text/plain": [
       "{'stop_name': 'Temple Bar, Central Bank',\n",
       " 'lat': 53.344263536440295,\n",
       " 'lon': -6.26253060148302,\n",
       " 'serves': {'14': [2],\n",
       "  '140': [3, 4],\n",
       "  '142': [2],\n",
       "  '14C': [1],\n",
       "  '15': [2, 3],\n",
       "  '15A': [1],\n",
       "  '15B': [1],\n",
       "  '15D': [1]}}"
      ]
     },
     "execution_count": 17,
     "metadata": {},
     "output_type": "execute_result"
    }
   ],
   "source": [
    "stops['7582']\n"
   ]
  },
  {
   "cell_type": "code",
   "execution_count": 18,
   "metadata": {},
   "outputs": [
    {
     "data": {
      "text/plain": [
       "{'stop_name': 'Custom House Quay',\n",
       " 'lat': 53.3483795866679,\n",
       " 'lon': -6.253876505995111,\n",
       " 'serves': {'142': [2],\n",
       "  '151': [1, 2],\n",
       "  '15A': [1],\n",
       "  '15B': [1],\n",
       "  '15D': [1],\n",
       "  '33D': [0],\n",
       "  '33X': [0, 1],\n",
       "  '41X': [0, 1, 2]}}"
      ]
     },
     "execution_count": 18,
     "metadata": {},
     "output_type": "execute_result"
    }
   ],
   "source": [
    "stops['407']"
   ]
  },
  {
   "cell_type": "code",
   "execution_count": null,
   "metadata": {},
   "outputs": [],
   "source": [
    "# Mean travel time prediction for this pair was ten minutes. I'm going to go ahead and say that is 'within reason'. Has definitely taken me that long on a bad day."
   ]
  },
  {
   "cell_type": "code",
   "execution_count": 19,
   "metadata": {},
   "outputs": [
    {
     "data": {
      "text/plain": [
       "{'stop_name': 'East Wall, East Wall Road',\n",
       " 'lat': 53.346960360760605,\n",
       " 'lon': -6.229541632122309,\n",
       " 'serves': {'142': [2],\n",
       "  '151': [1, 2],\n",
       "  '33D': [0],\n",
       "  '33X': [0, 1],\n",
       "  '41X': [0, 1, 2],\n",
       "  '747': [0],\n",
       "  '757': [0]}}"
      ]
     },
     "execution_count": 19,
     "metadata": {},
     "output_type": "execute_result"
    }
   ],
   "source": [
    "stops['7623']"
   ]
  },
  {
   "cell_type": "code",
   "execution_count": 20,
   "metadata": {},
   "outputs": [
    {
     "data": {
      "text/plain": [
       "{'stop_name': 'Davenport Hotel Merrion Street',\n",
       " 'lat': 53.3413467794909,\n",
       " 'lon': -6.250529480367451,\n",
       " 'serves': {'757': [1]}}"
      ]
     },
     "execution_count": 20,
     "metadata": {},
     "output_type": "execute_result"
    }
   ],
   "source": [
    "stops['7612']"
   ]
  },
  {
   "cell_type": "code",
   "execution_count": 25,
   "metadata": {},
   "outputs": [],
   "source": [
    "# I guess 10 minutes is possible"
   ]
  },
  {
   "cell_type": "code",
   "execution_count": 27,
   "metadata": {},
   "outputs": [
    {
     "data": {
      "text/plain": [
       "{'stop_name': 'The 3Arena (Point Depot)',\n",
       " 'lat': 53.34836911319879,\n",
       " 'lon': -6.22695976019451,\n",
       " 'serves': {'142': [3], '747': [1, 2]}}"
      ]
     },
     "execution_count": 27,
     "metadata": {},
     "output_type": "execute_result"
    }
   ],
   "source": [
    "stops['7399']"
   ]
  },
  {
   "cell_type": "code",
   "execution_count": 28,
   "metadata": {},
   "outputs": [
    {
     "data": {
      "text/plain": [
       "{'stop_name': 'Drinan, Link Road',\n",
       " 'lat': 53.443423959145406,\n",
       " 'lon': -6.2092738466268305,\n",
       " 'serves': {'142': [3], '41X': [3, 4, 5, 6, 7], '42D': [1]}}"
      ]
     },
     "execution_count": 28,
     "metadata": {},
     "output_type": "execute_result"
    }
   ],
   "source": [
    "stops['6311']"
   ]
  },
  {
   "cell_type": "code",
   "execution_count": 30,
   "metadata": {},
   "outputs": [],
   "source": [
    "from dbanalysis.stop_tools import stop_getter\n",
    "s_getter = stop_getter()"
   ]
  },
  {
   "cell_type": "code",
   "execution_count": 33,
   "metadata": {},
   "outputs": [
    {
     "data": {
      "text/plain": [
       "10.634466437036545"
      ]
     },
     "execution_count": 33,
     "metadata": {},
     "output_type": "execute_result"
    }
   ],
   "source": [
    "s_getter.get_stop_distance('7399','6311')"
   ]
  },
  {
   "cell_type": "code",
   "execution_count": null,
   "metadata": {},
   "outputs": [],
   "source": [
    "# so in theory it might go through the port tunnel. Maybe."
   ]
  },
  {
   "cell_type": "code",
   "execution_count": 34,
   "metadata": {},
   "outputs": [
    {
     "data": {
      "text/plain": [
       "{'stop_name': 'Palmerston, Liffey Valley Shopping Centre',\n",
       " 'lat': 53.3527244679275,\n",
       " 'lon': -6.39561255541242,\n",
       " 'serves': {'239': [0, 1], '40': [0, 3]}}"
      ]
     },
     "execution_count": 34,
     "metadata": {},
     "output_type": "execute_result"
    }
   ],
   "source": [
    "stops['4715']"
   ]
  },
  {
   "cell_type": "code",
   "execution_count": 35,
   "metadata": {},
   "outputs": [
    {
     "data": {
      "text/plain": [
       "{'stop_name': 'Palmerston, Liffey Valley Shopping Centre',\n",
       " 'lat': 53.3524180232268,\n",
       " 'lon': -6.3955489560181205,\n",
       " 'serves': {'239': [0, 1], '40': [4, 5], '76': [0, 1], '76A': [0, 1]}}"
      ]
     },
     "execution_count": 35,
     "metadata": {},
     "output_type": "execute_result"
    }
   ],
   "source": [
    "stops['4795']"
   ]
  },
  {
   "cell_type": "markdown",
   "metadata": {},
   "source": [
    "2000 seconds. This one is definitely broken. But maybe its a change over. I'm going to say its just a changeover and leave it"
   ]
  },
  {
   "cell_type": "code",
   "execution_count": 36,
   "metadata": {},
   "outputs": [
    {
     "data": {
      "text/plain": [
       "{'stop_name': 'Dunboyne, Station Road, School',\n",
       " 'lat': 53.4183788913453,\n",
       " 'lon': -6.4729103292889905,\n",
       " 'serves': {'270': [0], '70': [0], '70D': [0]}}"
      ]
     },
     "execution_count": 36,
     "metadata": {},
     "output_type": "execute_result"
    }
   ],
   "source": [
    "stops['3332']"
   ]
  },
  {
   "cell_type": "code",
   "execution_count": 37,
   "metadata": {},
   "outputs": [
    {
     "data": {
      "text/plain": [
       "{'stop_name': 'Dunboyne, Dunboyne Village',\n",
       " 'lat': 53.4195025234009,\n",
       " 'lon': -6.47432945787379,\n",
       " 'serves': {'270': [0, 1], '70': [0, 1, 2], '70D': [0, 1]}}"
      ]
     },
     "execution_count": 37,
     "metadata": {},
     "output_type": "execute_result"
    }
   ],
   "source": [
    "stops['3333']"
   ]
  },
  {
   "cell_type": "code",
   "execution_count": 38,
   "metadata": {},
   "outputs": [],
   "source": [
    "# Again, this must be a change over. Anyway its in Meath, so its fair to say that probably no one will care."
   ]
  },
  {
   "cell_type": "code",
   "execution_count": 39,
   "metadata": {},
   "outputs": [
    {
     "data": {
      "text/plain": [
       "{'stop_name': 'Amiens Street Junction Upper Sheriff Str',\n",
       " 'lat': 53.352858137716204,\n",
       " 'lon': -6.2485257594770705,\n",
       " 'serves': {'130': [1],\n",
       "  '14': [1],\n",
       "  '14C': [0],\n",
       "  '15': [0, 1],\n",
       "  '27': [4, 5],\n",
       "  '27A': [1],\n",
       "  '27B': [4, 5, 6, 7, 8, 9],\n",
       "  '29A': [1],\n",
       "  '31': [3],\n",
       "  '31A': [1],\n",
       "  '31B': [1, 2],\n",
       "  '32': [1],\n",
       "  '32X': [1],\n",
       "  '42': [1],\n",
       "  '43': [2, 3],\n",
       "  '53': [1]}}"
      ]
     },
     "execution_count": 39,
     "metadata": {},
     "output_type": "execute_result"
    }
   ],
   "source": [
    "stops['675']"
   ]
  },
  {
   "cell_type": "code",
   "execution_count": 40,
   "metadata": {},
   "outputs": [
    {
     "data": {
      "text/plain": [
       "{'stop_name': 'Dublin, Eden Quay',\n",
       " 'lat': 53.347757898922204,\n",
       " 'lon': -6.2580776128694104,\n",
       " 'serves': {'118': [0],\n",
       "  '27B': [4, 5, 6, 7, 8, 9],\n",
       "  '61': [2, 3],\n",
       "  '84X': [4, 5, 6]}}"
      ]
     },
     "execution_count": 40,
     "metadata": {},
     "output_type": "execute_result"
    }
   ],
   "source": [
    "stops['303']"
   ]
  },
  {
   "cell_type": "markdown",
   "metadata": {},
   "source": [
    "This one was at least 10 minutes and not really plausible"
   ]
  },
  {
   "cell_type": "code",
   "execution_count": 42,
   "metadata": {},
   "outputs": [
    {
     "data": {
      "text/plain": [
       "{'stop_name': 'Busáras',\n",
       " 'lat': 53.3494802300675,\n",
       " 'lon': -6.25231438637282,\n",
       " 'serves': {'130': [0],\n",
       "  '14': [0, 2],\n",
       "  '27': [2, 3],\n",
       "  '27A': [0],\n",
       "  '27X': [1],\n",
       "  '29A': [0],\n",
       "  '31': [0, 1, 2],\n",
       "  '31A': [0],\n",
       "  '31B': [0],\n",
       "  '32': [0],\n",
       "  '32X': [0],\n",
       "  '53': [0]}}"
      ]
     },
     "execution_count": 42,
     "metadata": {},
     "output_type": "execute_result"
    }
   ],
   "source": [
    "stops['496']"
   ]
  },
  {
   "cell_type": "code",
   "execution_count": 43,
   "metadata": {},
   "outputs": [
    {
     "data": {
      "text/plain": [
       "{'stop_name': 'Fairview, Marino College Fairview',\n",
       " 'lat': 53.3642686011137,\n",
       " 'lon': -6.23176916143433,\n",
       " 'serves': {'130': [0],\n",
       "  '14': [0, 2],\n",
       "  '15': [2],\n",
       "  '27': [2, 3],\n",
       "  '27A': [0],\n",
       "  '27B': [0, 1, 2, 3, 10],\n",
       "  '27X': [1],\n",
       "  '29A': [0],\n",
       "  '31': [0, 1, 2],\n",
       "  '31A': [0],\n",
       "  '31B': [0],\n",
       "  '32': [0],\n",
       "  '42': [0],\n",
       "  '43': [0, 1]}}"
      ]
     },
     "execution_count": 43,
     "metadata": {},
     "output_type": "execute_result"
    }
   ],
   "source": [
    "stops['523']"
   ]
  },
  {
   "cell_type": "markdown",
   "metadata": {},
   "source": [
    "### 10 minutes from busarus to fairview is plausible"
   ]
  },
  {
   "cell_type": "code",
   "execution_count": 44,
   "metadata": {},
   "outputs": [
    {
     "data": {
      "text/plain": [
       "{'stop_name': 'Busáras',\n",
       " 'lat': 53.3494802300675,\n",
       " 'lon': -6.25231438637282,\n",
       " 'serves': {'130': [0],\n",
       "  '14': [0, 2],\n",
       "  '27': [2, 3],\n",
       "  '27A': [0],\n",
       "  '27X': [1],\n",
       "  '29A': [0],\n",
       "  '31': [0, 1, 2],\n",
       "  '31A': [0],\n",
       "  '31B': [0],\n",
       "  '32': [0],\n",
       "  '32X': [0],\n",
       "  '53': [0]}}"
      ]
     },
     "execution_count": 44,
     "metadata": {},
     "output_type": "execute_result"
    }
   ],
   "source": [
    "stops['496']"
   ]
  },
  {
   "cell_type": "code",
   "execution_count": 46,
   "metadata": {},
   "outputs": [
    {
     "data": {
      "text/plain": [
       "{'stop_name': 'Dublin Road (James Larkin Road)',\n",
       " 'lat': 53.382717376036204,\n",
       " 'lon': -6.148533881521209,\n",
       " 'serves': {'31': [3], '31A': [1], '31B': [1, 2], '31D': [1], '32': [1]}}"
      ]
     },
     "execution_count": 46,
     "metadata": {},
     "output_type": "execute_result"
    }
   ],
   "source": [
    "stops['592']"
   ]
  },
  {
   "cell_type": "code",
   "execution_count": 47,
   "metadata": {},
   "outputs": [
    {
     "data": {
      "text/plain": [
       "7.814964126299761"
      ]
     },
     "execution_count": 47,
     "metadata": {},
     "output_type": "execute_result"
    }
   ],
   "source": [
    "s_getter.get_stop_distance('496','592')"
   ]
  },
  {
   "cell_type": "markdown",
   "metadata": {},
   "source": [
    "# 7km, plausible"
   ]
  },
  {
   "cell_type": "code",
   "execution_count": 48,
   "metadata": {},
   "outputs": [
    {
     "data": {
      "text/plain": [
       "4.754118621207307"
      ]
     },
     "execution_count": 48,
     "metadata": {},
     "output_type": "execute_result"
    }
   ],
   "source": [
    "s_getter.get_stop_distance('1749','544')"
   ]
  },
  {
   "cell_type": "markdown",
   "metadata": {},
   "source": [
    "Plausible"
   ]
  },
  {
   "cell_type": "code",
   "execution_count": 50,
   "metadata": {},
   "outputs": [
    {
     "data": {
      "text/plain": [
       "16.486907805582735"
      ]
     },
     "execution_count": 50,
     "metadata": {},
     "output_type": "execute_result"
    }
   ],
   "source": [
    "s_getter.get_stop_distance('7623','3714')"
   ]
  },
  {
   "cell_type": "code",
   "execution_count": 56,
   "metadata": {},
   "outputs": [
    {
     "data": {
      "text/plain": [
       "{'stop_name': 'Jamestown, Ennis Lane',\n",
       " 'lat': 53.472282473180705,\n",
       " 'lon': -6.210936233828781,\n",
       " 'serves': {'33': [0, 1, 2],\n",
       "  '33A': [0, 1],\n",
       "  '33B': [0],\n",
       "  '33D': [0],\n",
       "  '33X': [0, 1]}}"
      ]
     },
     "execution_count": 56,
     "metadata": {},
     "output_type": "execute_result"
    }
   ],
   "source": [
    "stops['3714']"
   ]
  },
  {
   "cell_type": "code",
   "execution_count": 54,
   "metadata": {},
   "outputs": [
    {
     "data": {
      "text/plain": [
       "['Custom House Quay',\n",
       " 'IFSC Custom House Quays',\n",
       " \"Jury's Inn Custom House Quay\",\n",
       " 'Docklands, Samuel Beckett Bridge',\n",
       " 'Docklands, North Wall Quay (New Wapping Street)',\n",
       " 'East Wall, East Wall Road',\n",
       " 'Jamestown, Ennis Lane',\n",
       " 'Donabate, Newbridge House',\n",
       " 'Donabate, Newbridge House',\n",
       " 'Donabate, Outside Train Station',\n",
       " 'Donabate, Corballis Cross',\n",
       " 'Donabate, Donabate Community Centre',\n",
       " 'Donabate, Carr Miles Estate',\n",
       " 'Donabate, National School',\n",
       " \"Donabate, Martin's Lane\",\n",
       " 'Portrane, Harneys Lane',\n",
       " 'Portraine, Portrane Road',\n",
       " 'Portraine, Portrane R126',\n",
       " 'Portrane, Seaview Estate',\n",
       " 'Portrane, Healys lane',\n",
       " 'Portrane, Dockrells',\n",
       " 'Portrane, Beach Lane',\n",
       " 'Portrane, Smarts Lane']"
      ]
     },
     "execution_count": 54,
     "metadata": {},
     "output_type": "execute_result"
    }
   ],
   "source": [
    "[stops[str(stop)]['stop_name'] for stop in routes['33D'][0][1:]]"
   ]
  },
  {
   "cell_type": "markdown",
   "metadata": {},
   "source": [
    "# Plausible"
   ]
  },
  {
   "cell_type": "code",
   "execution_count": 58,
   "metadata": {},
   "outputs": [
    {
     "data": {
      "text/plain": [
       "19.472501437870314"
      ]
     },
     "execution_count": 58,
     "metadata": {},
     "output_type": "execute_result"
    }
   ],
   "source": [
    "s_getter.get_stop_distance('3750','6252')"
   ]
  },
  {
   "cell_type": "code",
   "execution_count": 59,
   "metadata": {},
   "outputs": [
    {
     "data": {
      "text/plain": [
       "1.0662568049485106"
      ]
     },
     "execution_count": 59,
     "metadata": {},
     "output_type": "execute_result"
    }
   ],
   "source": [
    "s_getter.get_stop_distance('333','747')"
   ]
  },
  {
   "cell_type": "code",
   "execution_count": 60,
   "metadata": {},
   "outputs": [
    {
     "data": {
      "text/plain": [
       "{'stop_name': \"Dublin City South, O'Connell Bridge House\",\n",
       " 'lat': 53.346648199236895,\n",
       " 'lon': -6.258408239591611,\n",
       " 'serves': {'33D': [1]}}"
      ]
     },
     "execution_count": 60,
     "metadata": {},
     "output_type": "execute_result"
    }
   ],
   "source": [
    "stops['333']"
   ]
  },
  {
   "cell_type": "code",
   "execution_count": 61,
   "metadata": {},
   "outputs": [
    {
     "data": {
      "text/plain": [
       "{'stop_name': 'Dublin City South, Archbishop Statue',\n",
       " 'lat': 53.3399308030255,\n",
       " 'lon': -6.25572351873597,\n",
       " 'serves': {'11': [0],\n",
       "  '145': [6, 7, 9, 13],\n",
       "  '33D': [1],\n",
       "  '37': [2],\n",
       "  '38': [0, 1],\n",
       "  '38A': [2, 3],\n",
       "  '38B': [1],\n",
       "  '38D': [0],\n",
       "  '39': [1],\n",
       "  '39A': [3, 5],\n",
       "  '46A': [6, 7, 8, 10, 12],\n",
       "  '70': [1],\n",
       "  '7B': [0],\n",
       "  '7D': [0]}}"
      ]
     },
     "execution_count": 61,
     "metadata": {},
     "output_type": "execute_result"
    }
   ],
   "source": [
    "stops['747']"
   ]
  },
  {
   "cell_type": "code",
   "execution_count": 62,
   "metadata": {},
   "outputs": [],
   "source": [
    "# this pair is actually implausible"
   ]
  },
  {
   "cell_type": "code",
   "execution_count": 63,
   "metadata": {},
   "outputs": [
    {
     "data": {
      "text/plain": [
       "17.738683714620965"
      ]
     },
     "execution_count": 63,
     "metadata": {},
     "output_type": "execute_result"
    }
   ],
   "source": [
    "s_getter.get_stop_distance('7623','3713')"
   ]
  },
  {
   "cell_type": "code",
   "execution_count": 64,
   "metadata": {},
   "outputs": [
    {
     "data": {
      "text/plain": [
       "16.941214510884915"
      ]
     },
     "execution_count": 64,
     "metadata": {},
     "output_type": "execute_result"
    }
   ],
   "source": [
    "s_getter.get_stop_distance('6050','7398')"
   ]
  },
  {
   "cell_type": "code",
   "execution_count": 65,
   "metadata": {},
   "outputs": [
    {
     "data": {
      "text/plain": [
       "7.482804685993023"
      ]
     },
     "execution_count": 65,
     "metadata": {},
     "output_type": "execute_result"
    }
   ],
   "source": [
    "s_getter.get_stop_distance('4989','1845')"
   ]
  },
  {
   "cell_type": "code",
   "execution_count": null,
   "metadata": {},
   "outputs": [],
   "source": []
  }
 ],
 "metadata": {
  "kernelspec": {
   "display_name": "Python 3",
   "language": "python",
   "name": "python3"
  },
  "language_info": {
   "codemirror_mode": {
    "name": "ipython",
    "version": 3
   },
   "file_extension": ".py",
   "mimetype": "text/x-python",
   "name": "python",
   "nbconvert_exporter": "python",
   "pygments_lexer": "ipython3",
   "version": "3.6.5"
  }
 },
 "nbformat": 4,
 "nbformat_minor": 2
}
